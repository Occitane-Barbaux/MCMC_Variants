{
 "cells": [
  {
   "cell_type": "code",
   "execution_count": 1,
   "id": "c25fb233",
   "metadata": {},
   "outputs": [],
   "source": [
    "#Put all file in ANomaly of Temperature\n",
    "#Exclude Outliers\n",
    "#Save with the right format\n",
    "\n",
    "import sys,os\n",
    "import tarfile\n",
    "import warnings\n",
    "\n",
    "import numpy as np\n",
    "import pandas as pd\n",
    "import xarray as xr\n",
    "\n",
    "import SDFC.link as sdl\n",
    "import NSSEA as ns\n",
    "import NSSEA.plot as nsp\n",
    "import NSSEA.models as nsm\n",
    "import scipy.stats as sc\n",
    "import statsmodels.api as sm\n",
    "from statsmodels.graphics.gofplots import qqplot_2samples\n",
    "\n",
    "import cftime\n",
    "import matplotlib as mpl\n",
    "import matplotlib.pyplot as plt\n",
    "import matplotlib.backends.backend_pdf as mpdf\n",
    "import matplotlib.patches as mplpatch"
   ]
  },
  {
   "cell_type": "code",
   "execution_count": 2,
   "id": "ddd83b3d",
   "metadata": {},
   "outputs": [
    {
     "name": "stderr",
     "output_type": "stream",
     "text": [
      "/tmp/ipykernel_34665/3626403167.py:7: DeprecationWarning: `np.int` is a deprecated alias for the builtin `int`. To silence this warning, use `int` by itself. Doing this will not modify any behavior and is safe. When replacing `np.int`, you may wish to use e.g. `np.int64` or `np.int32` to specify the precision. If you wish to review your current use, check the release note link for additional information.\n",
      "Deprecated in NumPy 1.20; for more details and guidance: https://numpy.org/devdocs/release/1.20.0-notes.html#deprecations\n",
      "  time_period    = np.arange( 1850 , 2101 , 1 , dtype = np.int )\n",
      "/tmp/ipykernel_34665/3626403167.py:8: DeprecationWarning: `np.int` is a deprecated alias for the builtin `int`. To silence this warning, use `int` by itself. Doing this will not modify any behavior and is safe. When replacing `np.int`, you may wish to use e.g. `np.int64` or `np.int32` to specify the precision. If you wish to review your current use, check the release note link for additional information.\n",
      "Deprecated in NumPy 1.20; for more details and guidance: https://numpy.org/devdocs/release/1.20.0-notes.html#deprecations\n",
      "  time_reference = np.arange( 1986 , 2016 , 1 , dtype = np.int )\n"
     ]
    }
   ],
   "source": [
    "basepath=os.path.abspath(os.getcwd())\n",
    "pathInp='/home/barbauxo/Documents/Doctorat/03_Travail/2023_01 Application Tricastin/Data'\n",
    "\n",
    "pathOut='/home/barbauxo/Documents/Temporary/Outputs (Test Full_V1 Hadcrut)'\n",
    "assert(os.path.exists(pathInp))\n",
    "assert(os.path.exists(pathOut))\n",
    "time_period    = np.arange( 1850 , 2101 , 1 , dtype = np.int )\n",
    "time_reference = np.arange( 1986 , 2016 , 1 , dtype = np.int )\n",
    "type_data_entry=\"02_Selected\"\n",
    "type_data_output=\"03_Post_treatment\""
   ]
  },
  {
   "cell_type": "code",
   "execution_count": 40,
   "id": "e3df77b7",
   "metadata": {},
   "outputs": [],
   "source": [
    "%run ../Scripts/data_preparation.py"
   ]
  },
  {
   "cell_type": "code",
   "execution_count": 41,
   "id": "1fddbd08",
   "metadata": {},
   "outputs": [
    {
     "name": "stdout",
     "output_type": "stream",
     "text": [
      "['ACCESS-CM2_i1p1f1', 'ACCESS-ESM1-5_i1p1f1', 'CMCC-ESM2_i1p1f1', 'CNRM-CM6-1-HR_i1p1f2', 'CNRM-CM6-1_i1p1f2', 'CNRM-ESM2-1_i1p1f2', 'CanESM5_i1p2f1', 'EC-Earth3-CC_i1p1f1', 'EC-Earth3-Veg-LR_i1p1f1', 'EC-Earth3-Veg_i1p1f1', 'EC-Earth3_i1p1f1', 'FGOALS-g3_i1p1f1', 'GFDL-ESM4_i1p1f1', 'HadGEM3-GC31-LL_i1p1f3', 'HadGEM3-GC31-MM_i1p1f3', 'INM-CM4-8_i1p1f1', 'INM-CM5-0_i1p1f1', 'IPSL-CM6A-LR_i1p1f1', 'KACE-1-0-G_i1p1f1', 'MIROC-ES2L_i1p1f2', 'MIROC6_i1p1f1', 'MPI-ESM1-2-LR_i1p1f1', 'MRI-ESM2-0_i1p1f1', 'MRI-ESM2-0_i2p1f1', 'NESM3_i1p1f1', 'NorESM2-MM_i1p1f1', 'TaiESM1_i1p1f1', 'UKESM1-0-LL_i1p1f2']\n"
     ]
    }
   ],
   "source": [
    "lX,lY,models=load_models_CMIP6(pathInp,type_data_entry)\n",
    "Xo,Yo=load_obs(pathInp,type_data_entry)\n",
    "#From Absolute to ANomaly\n",
    "Xo,Yo,lX,lY,bias=Everyone_as_anomaly(Xo,Yo,lX,lY,time_reference)"
   ]
  },
  {
   "cell_type": "code",
   "execution_count": 52,
   "id": "fe738143",
   "metadata": {},
   "outputs": [],
   "source": [
    "bias_pd=pd.Series(bias)\n",
    "bias_pd.to_xarray().to_netcdf( os.path.join( pathOut ,\"Bias.nc\") )\n",
    "#.to_netcdf( os.path.join( pathOut ,\"Bias.nc\") )"
   ]
  },
  {
   "cell_type": "code",
   "execution_count": 94,
   "id": "754e7477",
   "metadata": {},
   "outputs": [],
   "source": [
    "#Enlever Outliers pour Y\n",
    "pathOutY= os.path.join(pathInp,\"CMIP6/Y\")\n",
    "log_outliers=open(pathOutY+'/Y_Outliers_log.txt','a')\n",
    "for i in range(0,len(models)):\n",
    "    m=models[i]\n",
    "    Y=lY[i]\n",
    "    Outliers=is_outlier(Y, m)\n",
    "    Y_not_anomalies=Outliers[(Outliers['Anomalies']==0)]\n",
    "    if len(Outliers[(Outliers['Anomalies']==1)])>0:\n",
    "        Y_anomalies=Outliers[(Outliers['Anomalies']==1)]\n",
    "        for j in range(0,len(Y_anomalies)):\n",
    "            line=[Y_anomalies.iloc[j].index[0],Y_anomalies.iloc[j].values[0],Y_anomalies.iloc[j].name]\n",
    "\n",
    "            log_outliers.write(str(line)+\"\\n\")\n",
    "    Y_not_anomalies=Y_not_anomalies.drop(columns='Anomalies')\n",
    "    Y_not_anomalies.index.name='time'\n",
    "    Y_not_anomalies.columns=['tasmax']\n",
    "    Y_not_anomalies.to_xarray().to_netcdf( os.path.join( pathOutY ,type_data_output, \"full_Tricastin_ssp585_{}.nc\".format(m) ) )\n",
    "log_outliers.close()"
   ]
  },
  {
   "cell_type": "code",
   "execution_count": 95,
   "id": "fb211029",
   "metadata": {},
   "outputs": [],
   "source": [
    "#Enlever Outliers pour X\n",
    "pathOutX= os.path.join(pathInp,\"CMIP6/X\")\n",
    "log_outliers=open(pathOutX+'/X_Outliers_log.txt','a')\n",
    "for i in range(0,len(models)):\n",
    "    m=models[i]\n",
    "    X=lX[i]\n",
    "    Outliers=is_outlier(X, m)\n",
    "    X_not_anomalies=Outliers[(Outliers['Anomalies']==0)]\n",
    "    if len(Outliers[(Outliers['Anomalies']==1)])>0:\n",
    "        X_anomalies=Outliers[(Outliers['Anomalies']==1)]\n",
    "        for j in range(0,len(X_anomalies)):\n",
    "            line=[X_anomalies.iloc[j].index[0],X_anomalies.iloc[j].values[0],X_anomalies.iloc[j].name]\n",
    "\n",
    "            log_outliers.write(str(line)+\"\\n\")\n",
    "    X_not_anomalies=X_not_anomalies.drop(columns='Anomalies')\n",
    "    X_not_anomalies.index.name='time'\n",
    "    X_not_anomalies.columns=['tas']\n",
    "    X_not_anomalies.to_xarray().to_netcdf( os.path.join( pathOutX ,type_data_output, \"full_Europe_tas_YearMean_ssp585_{}.nc\".format(m) ) )\n",
    "log_outliers.close()"
   ]
  },
  {
   "cell_type": "code",
   "execution_count": 96,
   "id": "22cfd969",
   "metadata": {},
   "outputs": [],
   "source": [
    "#Bon format\n",
    "Xo.index=pd.to_datetime(Xo.index.astype(str), yearfirst=True)\n",
    "Xo.index.name='time'\n",
    "Xo.columns=['tas']\n",
    "Xo.to_xarray().to_netcdf( os.path.join( pathInp ,\"Observations\",type_data_output,\"Xo.nc\") )"
   ]
  },
  {
   "cell_type": "code",
   "execution_count": 97,
   "id": "a0780742",
   "metadata": {},
   "outputs": [],
   "source": [
    "Yo.index=pd.to_datetime(Yo.index.astype(str), yearfirst=True)\n",
    "Yo.index.name='time'\n",
    "Yo.columns=['TX']\n",
    "Yo.to_xarray().to_netcdf( os.path.join( pathInp ,\"Observations\",type_data_output,\"Yo.nc\") )"
   ]
  },
  {
   "cell_type": "code",
   "execution_count": null,
   "id": "ff96fc98",
   "metadata": {},
   "outputs": [],
   "source": []
  }
 ],
 "metadata": {
  "kernelspec": {
   "display_name": "Yoann",
   "language": "python",
   "name": "yoann"
  },
  "language_info": {
   "codemirror_mode": {
    "name": "ipython",
    "version": 3
   },
   "file_extension": ".py",
   "mimetype": "text/x-python",
   "name": "python",
   "nbconvert_exporter": "python",
   "pygments_lexer": "ipython3",
   "version": "3.8.13"
  }
 },
 "nbformat": 4,
 "nbformat_minor": 5
}
